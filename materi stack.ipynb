{
 "cells": [
  {
   "cell_type": "markdown",
   "metadata": {},
   "source": [
    "//STACK//\n",
    "\n",
    "Stack adalah kumpulan data yang terurut sesuai bagaimana data tersebut ditambahkan atau dihapus. Proses pada stack terjadi pada satu ujung. Ujung ini disebut 'top'. Sisi yang berlawanan dengan ujung ini disebut 'base'. Stack dalam pengurutan data menggunakan metode LIFO (Last in, First in). Contoh implementasi dari stack adalah memeriksa keseimbangan tanda kurung, konversi bilangan desimal ke biner, konversi infix ke postfix/prefix dan lain sebagainya.\n",
    "    \n",
    "    *Algoritma\n",
    "       Berikut ini adalah algoritma salah satu implementasi Stack yaitu program memeriksa kata dengan lawan katanya. Jika kata\n",
    "        tersebut bertemu dengan lawan katanya maka hasillnya True.\n",
    "        Buatlah list pasangan kata.\n",
    "        Input kata yang ingin diperiksa dan masukan ke Stack\n",
    "        Buat Variabel hasil untuk menyimpan hasil True dan False.\n",
    "        Ambil satu kata dari Stack.\n",
    "        Bandingkan kata tersebut dengan kata yang berada pada list pasangan kata.\n",
    "        Jika tidak ketemu maka kirim hasil False pada variabel hasil, Jika ketemu maka ambil satu kata dari stack lagi untuk\n",
    "        membandingkannya dengan list pasangan yang tadi sama dengan kata pertama.\n",
    "        Jika kata kedua tidak ketemu dengan pasangan pada kata pertama, maka variabel hasil berisi False\n",
    "        Begitu seterusnya, sampai data yang diinputkan habis.\n",
    "        Akumulasikan/evaluasi variabel hasil dengan operator 'And'"
   ]
  },
  {
   "cell_type": "code",
   "execution_count": 1,
   "metadata": {},
   "outputs": [
    {
     "name": "stdout",
     "output_type": "stream",
     "text": [
      "Masukan berapa banyak kata yang ingin diinput = 2\n",
      "Masukan kata ke 1 = malam \n",
      "Masukan kata ke 2 = tenggelam\n",
      "malam  tenggelam -> False\n"
     ]
    }
   ],
   "source": [
    "class Stack:\n",
    "    def __init__(self):\n",
    "        self.items=[]\n",
    "        \n",
    "    def isEmpty(self):\n",
    "        return self.items == []\n",
    "    def open(self):\n",
    "        return self.items\n",
    "    def push(self,item):\n",
    "        return self.items.append(item)\n",
    "    def pop(self):\n",
    "        return self.items.pop()\n",
    "    def peek(self):\n",
    "        return self.items[len(self.items)-1]\n",
    "    def size(self):\n",
    "        return len(self.items)\n",
    "    \n",
    "s = Stack()\n",
    "\n",
    "stak=[]\n",
    "soal =''\n",
    "pasangan = [['siang','malam'],['terang','gelap'],['malam','siang'],['gelap','terang'],['terbit','tenggelam'],['tenggelam','terbit']]\n",
    "masukan = int(input('Masukan berapa banyak kata yang ingin diinput = '))\n",
    "for i in range(masukan):\n",
    "    b = input('Masukan kata ke %i = '%(i+1))\n",
    "    s.push(b)\n",
    "    stak.append(b)\n",
    "for i in range(len(stak)):\n",
    "    soal=soal + stak[i] + ' '\n",
    "#print(s.open())\n",
    "hasil = 0\n",
    "pembanding = False\n",
    "hasil1 = False\n",
    "while not s.isEmpty():\n",
    "    a = Stack()\n",
    "    if len(s.open()) == 1:\n",
    "        hasil1=False\n",
    "    cek = s.pop()\n",
    "    for i in range(len(pasangan)):\n",
    "        pas = pasangan[i][0]\n",
    "        if cek == pas:\n",
    "            ketemu = False\n",
    "            if s.size() <= 0:\n",
    "                ketemu = True\n",
    "            else:\n",
    "                ketemu = False\n",
    "            while not ketemu:\n",
    "                ka = s.open()\n",
    "                jum = len(ka)-1\n",
    "                while jum >= 0:\n",
    "                    cek1 = ka[jum]\n",
    "                    if pasangan[i][1] == cek1:\n",
    "                        ketemu = True\n",
    "                        hasil1 = True\n",
    "                        ka.remove(cek1)\n",
    "                        break\n",
    "                    else:\n",
    "                        hasil1 = False\n",
    "                    jum-=1\n",
    "                ketemu = True\n",
    "    hasil = hasil1\n",
    "    pembanding = hasil and hasil1\n",
    "print(soal +'-> '+ str(pembanding))"
   ]
  },
  {
   "cell_type": "code",
   "execution_count": 3,
   "metadata": {},
   "outputs": [
    {
     "name": "stdout",
     "output_type": "stream",
     "text": [
      "masukkan kata:katak\n",
      "palindrome\n"
     ]
    }
   ],
   "source": [
    "#untuk membuat program polindrom menggunakan stack\n",
    "\n",
    "class Stack:\n",
    "    def __init__(self):\n",
    "        self.items = []\n",
    " \n",
    "    def is_empty(self):\n",
    "        return self.items == []\n",
    " \n",
    "    def push(self, data):\n",
    "        self.items.append(data)\n",
    " \n",
    "    def pop(self):\n",
    "        return self.items.pop()\n",
    "\n",
    "s = Stack()\n",
    "x = str(input(\"masukkan kata:\"))\n",
    "x=x.replace(\" \",\"\")\n",
    "\n",
    "for i in x:\n",
    "    s.push(i)\n",
    "\n",
    "    reversed_text = \"\"\n",
    "while not s.is_empty():\n",
    "    reversed_text = reversed_text + s.pop()\n",
    "\n",
    "if x == reversed_text:\n",
    "    print(\"palindrome\")\n",
    "else:\n",
    "    print(\"bukan palindrome\")"
   ]
  },
  {
   "cell_type": "code",
   "execution_count": null,
   "metadata": {},
   "outputs": [],
   "source": []
  }
 ],
 "metadata": {
  "kernelspec": {
   "display_name": "Python 3",
   "language": "python",
   "name": "python3"
  },
  "language_info": {
   "codemirror_mode": {
    "name": "ipython",
    "version": 3
   },
   "file_extension": ".py",
   "mimetype": "text/x-python",
   "name": "python",
   "nbconvert_exporter": "python",
   "pygments_lexer": "ipython3",
   "version": "3.7.1"
  }
 },
 "nbformat": 4,
 "nbformat_minor": 2
}
